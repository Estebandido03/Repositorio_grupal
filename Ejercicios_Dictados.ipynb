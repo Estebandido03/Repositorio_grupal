{
  "nbformat": 4,
  "nbformat_minor": 0,
  "metadata": {
    "colab": {
      "name": "Ejercicios_Dictados.ipynb",
      "provenance": [],
      "collapsed_sections": []
    },
    "kernelspec": {
      "name": "python3",
      "display_name": "Python 3"
    },
    "language_info": {
      "name": "python"
    }
  },
  "cells": [
    {
      "cell_type": "code",
      "execution_count": null,
      "metadata": {
        "colab": {
          "base_uri": "https://localhost:8080/"
        },
        "id": "Q7eAshrtzGAH",
        "outputId": "916c2b96-9517-493d-a76e-6be924ca3a79"
      },
      "outputs": [
        {
          "output_type": "stream",
          "name": "stdout",
          "text": [
            "Ingrese su nombre: Carlos\n",
            "Ingrese su edad: 43\n",
            "Ingrese su direción: Cll 70b\n",
            "Ingrese su telefono: 3125131465\n",
            "['Carlos', '43', 'Cll 70b', '3125131465']\n",
            "Carlos tiene 43 años, vive en Cll 70b y su número de telefono es 3125131465.\n"
          ]
        }
      ],
      "source": [
        "# EJERCICIO 1\n",
        "nombre = input(\"Ingrese su nombre: \")\n",
        "edad = input(\"Ingrese su edad: \")\n",
        "direccion = input(\"Ingrese su direción: \")\n",
        "telefono = input(\"Ingrese su telefono: \")\n",
        "\n",
        "informacion = {\"n\":nombre, \"e\":edad, \"d\":direccion, \"t\":telefono}\n",
        "print(list(informacion.values()))\n",
        "\n",
        "print(informacion['n'] + \" tiene \" + informacion['e'] + \" años, vive en \" + informacion['d'] + \" y su número de telefono es \" + informacion['t'] + \".\" )\n",
        "#print(list(informacion.)\n"
      ]
    },
    {
      "cell_type": "code",
      "source": [
        ""
      ],
      "metadata": {
        "id": "hrCn_joSfHiT"
      },
      "execution_count": null,
      "outputs": []
    },
    {
      "cell_type": "code",
      "source": [
        "# EJERCICIO 2\n",
        "fecha_actual=int(input(\"Ingrese la fecha actual: \"))\n",
        "año=fecha_actual%10000\n",
        "dia=fecha_actual//1000000\n",
        "mes=(fecha_actual//10000)%100\n",
        "print(dia,\"/\",mes,\"/\",año)\n",
        "\n",
        "\n",
        "fecha_nacimiento=int(input(\"Ingrese su fecha de nacimiento: \"))\n",
        "añodn=fecha_nacimiento%10000\n",
        "diadn=fecha_nacimiento//1000000\n",
        "mesdn=(fecha_nacimiento//10000)%100\n",
        "print(diadn,'/',mesdn,'/',añodn)\n",
        "\n",
        "\n",
        "añosdevida=(año-añodn)*365\n",
        "diasdv=dia-diadn\n",
        "mesesdevida=(mes-mesdn)*30\n",
        "dias_de_vida=mesesdevida+añosdevida+diasdv\n",
        "print('Sus dias de vida son ',dias_de_vida)\n",
        "\n",
        "\n"
      ],
      "metadata": {
        "id": "bTKnYsSu4XOe",
        "colab": {
          "base_uri": "https://localhost:8080/"
        },
        "outputId": "7a0c1381-9912-44fd-dfff-75e5772c64aa"
      },
      "execution_count": null,
      "outputs": [
        {
          "output_type": "stream",
          "name": "stdout",
          "text": [
            "Ingrese la fecha actual: 09062022\n",
            "9 / 6 / 2022\n",
            "Ingrese su fecha de nacimiento: 07062003\n",
            "7 / 6 / 2003\n",
            "Sus dias de vida son  6937\n"
          ]
        }
      ]
    },
    {
      "cell_type": "code",
      "source": [
        "#EJERCICIO 3\n"
      ],
      "metadata": {
        "id": "0fb1zk3OVQZj"
      },
      "execution_count": null,
      "outputs": []
    }
  ]
}