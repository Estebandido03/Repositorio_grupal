{
  "nbformat": 4,
  "nbformat_minor": 0,
  "metadata": {
    "colab": {
      "name": "Quiz_grupal.ipynb",
      "provenance": [],
      "collapsed_sections": []
    },
    "kernelspec": {
      "name": "python3",
      "display_name": "Python 3"
    },
    "language_info": {
      "name": "python"
    }
  },
  "cells": [
    {
      "cell_type": "code",
      "execution_count": null,
      "metadata": {
        "id": "Ei2RFyeB8vFC",
        "colab": {
          "base_uri": "https://localhost:8080/"
        },
        "outputId": "5cbe2948-b16a-4fc9-e18c-699d805a7ad3"
      },
      "outputs": [
        {
          "output_type": "stream",
          "name": "stdout",
          "text": [
            "Alemán - Prueba de nivel - Para cursos segundo cuatrimestre\n",
            "Español - Prueba de nivel - Para cursos segundo cuatrimestre\n",
            "Francés - Prueba de nivel - Para cursos segundo cuatrimestre\n",
            "Inglés - Prueba de nivel - para cursos de Inglés para la Docencia y preparatorio de GESE Trinity\n",
            "Inglés - Prueba de nivel - Para cursos segundo cuatrimestre\n",
            "Inglés - Prueba de nivel - Para preparatorios del FCE/CAE/CPE/IELTS\n",
            "Italiano - Prueba de nivel - Para cursos segundo cuatrimestre\n",
            "Existen 7 pruebas de idiomas en el documento\n"
          ]
        }
      ],
      "source": [
        "import json\n",
        "import requests\n",
        "from pprint import pprint\n",
        "\n",
        "response = requests.get(\n",
        "    \"https://fp.josedomingo.org/lmgs/u05/ej2.json\")\n",
        "pruebas = json.loads(response.text)\n",
        "\n",
        "\n",
        "for prueba in pruebas:\n",
        "  print(prueba['Titulo'])\n",
        "contador=1\n",
        "\n",
        "for i in 'Titulo':\n",
        "  contador=contador+1\n",
        "\n",
        "print('Existen',contador,'pruebas de idiomas en el documento')"
      ]
    },
    {
      "cell_type": "code",
      "source": [
        "for test in pruebas:\n",
        "  if(test['Horas'])>2:\n",
        "    print(test['Titulo'])"
      ],
      "metadata": {
        "colab": {
          "base_uri": "https://localhost:8080/"
        },
        "id": "hu8OpkbaVQ18",
        "outputId": "a93e542a-e128-4a52-a2d4-2e09d337b80d"
      },
      "execution_count": null,
      "outputs": [
        {
          "output_type": "stream",
          "name": "stdout",
          "text": [
            "Inglés - Prueba de nivel - para cursos de Inglés para la Docencia y preparatorio de GESE Trinity\n",
            "Inglés - Prueba de nivel - Para cursos segundo cuatrimestre\n"
          ]
        }
      ]
    },
    {
      "cell_type": "markdown",
      "source": [
        ""
      ],
      "metadata": {
        "id": "qpS6nnTXPwRB"
      }
    },
    {
      "cell_type": "code",
      "source": [
        "for test in pruebas:\n",
        "  if (test['TipoFormacion']) == \"NoPresencial\":\n",
        "   print(test['URL'])\n",
        "  if (test['TipoFormacion']) == \"No Presencial\":\n",
        "   print(test['URL'])"
      ],
      "metadata": {
        "colab": {
          "base_uri": "https://localhost:8080/"
        },
        "id": "d1S1iaj-WYFv",
        "outputId": "e7a99827-b4f6-4d43-bed8-1bdd393feaa3"
      },
      "execution_count": null,
      "outputs": [
        {
          "output_type": "stream",
          "name": "stdout",
          "text": [
            "https://sede.fg.ull.es/es/idioma/detalle/A15050163/aleman-prueba-de-nivel-para-cursos-segundo-cuatrimestre\n",
            "https://sede.fg.ull.es/es/idioma/detalle/A15050167/espa-ol-prueba-de-nivel-para-cursos-segundo-cuatrimestre\n"
          ]
        }
      ]
    },
    {
      "cell_type": "code",
      "source": [
        "ID=input('inserte el codigo de la prueba: ')\n",
        "for test in pruebas:\n",
        "  if (test['ID']) == ID:\n",
        "    print(test['Titulo'])\n",
        "    print(test['Profesorado'][0]['NombreCompleto'])"
      ],
      "metadata": {
        "colab": {
          "base_uri": "https://localhost:8080/"
        },
        "id": "u2IlPyO5WlWB",
        "outputId": "9398ce9d-15e6-4241-a234-c33144e2e891"
      },
      "execution_count": null,
      "outputs": [
        {
          "output_type": "stream",
          "name": "stdout",
          "text": [
            "inserte el codigo de la prueba: A15050163\n",
            "Alemán - Prueba de nivel - Para cursos segundo cuatrimestre\n",
            "Reinhard Dlugay\n"
          ]
        }
      ]
    },
    {
      "cell_type": "markdown",
      "source": [
        "https://drive.google.com/file/d/1aEN8cHeBpFryPM0fkMvCgGzQ1EWTWgp2/view?usp=sharing"
      ],
      "metadata": {
        "id": "OmMS1gm8wsEA"
      }
    }
  ]
}